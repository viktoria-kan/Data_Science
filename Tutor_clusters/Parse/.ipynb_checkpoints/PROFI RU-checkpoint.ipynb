{
 "cells": [
  {
   "cell_type": "code",
   "execution_count": 1,
   "id": "a62b595c",
   "metadata": {},
   "outputs": [],
   "source": [
    "import requests\n",
    "from bs4 import BeautifulSoup\n",
    "import re\n",
    "import pandas as pd\n",
    "\n",
    "from tqdm import tqdm_notebook\n",
    "import itertools\n",
    "\n",
    "from tqdm import tqdm\n",
    "from p_tqdm import p_map\n",
    "from functools import partial\n",
    "\n",
    "from multiprocessing.dummy import Pool as ThreadPool\n",
    "\n",
    "from requests_html import HTMLSession\n",
    "\n",
    "import warnings\n",
    "warnings.filterwarnings('ignore')"
   ]
  },
  {
   "cell_type": "code",
   "execution_count": null,
   "id": "11fb1686",
   "metadata": {},
   "outputs": [],
   "source": [
    "# https://repetitors.info/repetitor/prog/\n",
    "https://profi.ru/repetitor/japanese/?seamless=1&tabName=PROFILES"
   ]
  },
  {
   "cell_type": "code",
   "execution_count": null,
   "id": "a63e79c1",
   "metadata": {},
   "outputs": [],
   "source": [
    "def parse_auto(subject: str):\n",
    "    try:\n",
    "        car_name = brand.lower()\n",
    "        lst_auto = []\n",
    "        url = \"https://repetitors.info/repetitor/{}/\".format(subject)\n",
    "        response = requests.get(url)\n",
    "\n",
    "        if response.status_code != 404:\n",
    "            soup = BeautifulSoup(response.text, 'html.parser')\n",
    "            repetitors = soup.find_all(\"a\", {\"href\": \"bulls-list_bull\"})\n",
    "\n",
    "            for rep in repetitors:\n",
    "                name = rep.find(\"a\", {\"data-ftid\": \"bull_title\"}).text\n",
    "#                 title_pred = title.split(f'{brand} ')[1].split(', ')\n",
    "\n",
    "                model, year = title_pred[0], title_pred[1]\n",
    "\n",
    "                desc = rep.find(\n",
    "                    \"div\", {\n",
    "                        \"data-ftid\": \"component_inline-bull-description\"\n",
    "                    }).text\n",
    "                location = rep.find(\"span\", {\n",
    "                    \"data-ftid\": \"bull_location\"\n",
    "                }).text\n",
    "\n",
    "                price = car.find(\"span\", {\"data-ftid\": \"bull_price\"}).text\n",
    "                price = re.sub(r\"[^\\d,.]\", '', price)\n",
    "\n",
    "                lst_auto.append(\n",
    "                    [region, brand, model, year, desc, location, price])\n",
    "#                 print(lst_auto)\n",
    "    except Exception as ex:\n",
    "        print(f'message error: {ex}')\n",
    "    return lst_auto"
   ]
  },
  {
   "cell_type": "code",
   "execution_count": 2,
   "id": "8f9bc254",
   "metadata": {},
   "outputs": [],
   "source": [
    "URL = 'https://profi.ru/repetitor/japanese/?seamless=1&tabName=PROFILES'"
   ]
  },
  {
   "cell_type": "code",
   "execution_count": 10,
   "id": "aca0c9e8",
   "metadata": {},
   "outputs": [
    {
     "name": "stdout",
     "output_type": "stream",
     "text": [
      "<Response [200]>\n"
     ]
    }
   ],
   "source": [
    "response = requests.get(URL)\n",
    "print(response)"
   ]
  },
  {
   "cell_type": "code",
   "execution_count": null,
   "id": "3c45eafb",
   "metadata": {},
   "outputs": [],
   "source": [
    "names_of_rep = []\n",
    "for rep in repetitors:\n",
    "    name = rep.find(\"a\", {\"data-ftid\": \"bull_title\"}).text\n",
    "    names_of_rep.append(name)"
   ]
  },
  {
   "cell_type": "code",
   "execution_count": 14,
   "id": "d8a34bcb",
   "metadata": {},
   "outputs": [],
   "source": [
    "URL = 'https://profi.ru/repetitor/japanese/?seamless=1&tabName=PROFILES'\n",
    "response = requests.get(URL).text\n",
    "\n",
    "soup = BeautifulSoup(response, 'html.parser')"
   ]
  },
  {
   "cell_type": "code",
   "execution_count": null,
   "id": "9b8a49f4",
   "metadata": {},
   "outputs": [],
   "source": [
    "<a href=\"/repetitor/japanese/\" class=\"ui_1hi7c ui_RF7aD ui_3j-OD\">Оцубо Такуми</a>\n"
   ]
  },
  {
   "cell_type": "code",
   "execution_count": null,
   "id": "de4a9aa3",
   "metadata": {},
   "outputs": [],
   "source": [
    "<div class=\"seamless-profile desktop-profile\"><div class=\"desktop-profile__right\"><div class=\"desktop-profile__actions\"><div><button type=\"button\" class=\"ui_2QW3c ui_2VriV ui_3aY4S ui_2QS_i _1_S6IH_ _bH4lXKz\" disabled=\"\"><span class=\"ui_3vUWP\">Написать сообщение</span></button></div><div class=\"ui_2MYaG ui_1pcoM ui_3nAGW ui_1hoX9 _Rc8Obth\">Вы сможете писать после заполнения деталей заказа</div></div><div class=\"desktop-profile__location desktop-profile__block\"><div class=\"_2JhEcfD\"><div class=\"ui-text _1Jx20En _3xKhc83 _2iyzK60 _3YppjWm\">Выезд к клиенту</div><div class=\"_3G2CI5b\"><div data-shmid=\"expandableBlock\" class=\"_16Pjigk\"><div class=\"\"><div class=\"ui-text _3xKhc83 _2iyzK60\"><div><span class=\"ui-station ui-station_desktop _mbBZDe0\">Люберцы</span>, </div><div><span class=\"ui-station ui-station_desktop _mbBZDe0 ui-station_with-icon\"><span class=\"ui-station__metro-line ui-station__metro-line__mbBZDe0\"><span class=\"ui-station__metro-line-color\" style=\"width: 4px; background: rgb(255, 203, 49);\"></span><span class=\"ui-station__metro-line-color\" style=\"width: 4px; background: rgb(120, 204, 206);\"></span><span class=\"ui-station__metro-line-color\" style=\"width: 4px; background: rgb(222, 100, 161);\"></span></span>Авиамоторная</span>, </div><div><span class=\"ui-station ui-station_desktop _mbBZDe0 ui-station_with-icon\"><span class=\"ui-station__metro-line ui-station__metro-line__mbBZDe0\"><span class=\"ui-station__metro-line-color\" style=\"width: 6px; background: rgb(72, 185, 96);\"></span><span class=\"ui-station__metro-line-color\" style=\"width: 6px; background: rgb(229, 118, 99);\"></span></span>Автозаводская</span>, </div><div><span class=\"ui-station ui-station_desktop _mbBZDe0 ui-station_with-icon\"><span class=\"ui-station__metro-line ui-station__metro-line__mbBZDe0\"><span class=\"ui-station__metro-line-color\" style=\"width: 4px; background: rgb(24, 193, 241);\"></span><span class=\"ui-station__metro-line-color\" style=\"width: 4px; background: rgb(160, 161, 163);\"></span><span class=\"ui-station__metro-line-color\" style=\"width: 4px; background: rgb(239, 48, 36);\"></span></span>Александровский сад</span>, </div><div><span class=\"ui-station ui-station_desktop _mbBZDe0 ui-station_with-icon\"><span class=\"ui-station__metro-line ui-station__metro-line__mbBZDe0\"><span class=\"ui-station__metro-line-color\" style=\"width: 12px; background: rgb(245, 130, 49);\"></span></span>Алексеевская</span>, </div></div></div><a class=\"_3Zewwl_ _2wqK7eC ui-link _t37mbJS _3G1AJk9 _3B7jWEb\" data-shmid=\"expandableBlockMore\" href=\"#\" target=\"_self\"><span class=\"\">Посмотреть все</span></a></div></div></div><div class=\"_2JhEcfD\"><div class=\"ui-text _1Jx20En _3xKhc83 _2iyzK60 _3YppjWm\">Работает дистанционно</div><div class=\"_3G2CI5b\"><div class=\"ui-text _3xKhc83 _2iyzK60\"></div></div></div></div></div><div class=\"desktop-profile__left\"><div class=\"_2qSsOFV\"><div class=\"ui_ewQf7\"><a href=\"/repetitor/japanese/?seamless=1&amp;tabName=PROFILES&amp;profileTabName=reviews&amp;profileId=OtsuboTakumi\" class=\"ui_1hi7c\"><div class=\"ui_1iXtc ui_j6qVY ui_3j-OD ui_4-sjo\"><div class=\"ui_13AKO\"><img src=\"//cdn.profi.ru/xfiles/pfiles/5c8d3b696a624aa4b5ff8549cd88818e.jpg-profi_a34-180.jpg\" alt=\"Аватар Оцубо Такуми\" loading=\"lazy\" class=\"ui_2-COb\"></div></div></a><div class=\"ui_BgNKw\"><div><a href=\"/repetitor/japanese/?seamless=1&amp;tabName=PROFILES&amp;profileTabName=reviews&amp;profileId=OtsuboTakumi\" class=\"ui_1hi7c ui_RF7aD ui_3j-OD\">Оцубо Такуми</a></div><span class=\"ui_2MYaG ui_1pcoM ui_3nAGW ui_1hoX9 ui_vr3X7 ui_Wlzt7\">Был в&nbsp;сети сегодня в&nbsp;00:20</span><div class=\"ui_2MYaG ui_2SXfw ui_RF7aD ui_3Y-uv ui_Rff0c ui_9cYgw ui_VLOD7\"><div class=\"ui_jKnqN\"><span class=\"ui_mqXop ui_Rub2m\" data-shmid=\"profileIndicators_ratingBlock\"><svg width=\"1em\" height=\"1em\" viewBox=\"0 0 24 23\" fill=\"none\" xmlns=\"http://www.w3.org/2000/svg\" class=\"ui_YpY4A\"><path d=\"M13.039 2.63884C12.8853 2.1965 12.4683 1.9 12 1.9C11.5317 1.9 11.1147 2.1965 10.961 2.63884L8.97872 8.34156L2.94255 8.46457C2.47435 8.47411 2.06351 8.77904 1.9188 9.22442C1.77409 9.6698 1.92722 10.158 2.3004 10.4409L7.11146 14.0884L5.36317 19.8671C5.22756 20.3154 5.39061 20.8003 5.76948 21.0756C6.14834 21.3508 6.65994 21.3561 7.04434 21.0886L12 17.6401L16.9557 21.0886C17.3401 21.3561 17.8517 21.3508 18.2305 21.0756C18.6094 20.8003 18.7724 20.3154 18.6368 19.8671L16.8885 14.0884L21.6996 10.4409C22.0728 10.158 22.2259 9.6698 22.0812 9.22442C21.9365 8.77904 21.5257 8.47411 21.0574 8.46457L15.0213 8.34156L13.039 2.63884Z\" stroke=\"currentColor\" stroke-width=\"2.2\" stroke-linejoin=\"round\"></path></svg>4,93</span><a class=\"ui_1hi7c ui_mqXop ui_Rub2m\" data-shmid=\"profileIndicators_reviews_link\"><svg width=\"1em\" height=\"1em\" viewBox=\"0 0 16 16\" fill=\"none\" xmlns=\"http://www.w3.org/2000/svg\" class=\"ui_YpY4A\"><path d=\"M4 11.43H4.85L4.85 10.58H4V11.43ZM4 13.6358H3.15H4ZM5.70711 14.3429L6.30815 14.9439L5.70711 14.3429ZM8.62 11.43V10.58H8.26792L8.01896 10.8289L8.62 11.43ZM2.85 4.54999C2.85 3.91486 3.36487 3.39999 4 3.39999V1.69999C2.42599 1.69999 1.15 2.97597 1.15 4.54999H2.85ZM2.85 9.42999V4.54999H1.15V9.42999H2.85ZM4 10.58C3.36487 10.58 2.85 10.0651 2.85 9.42999H1.15C1.15 11.004 2.42599 12.28 4 12.28V10.58ZM4.85 13.6358L4.85 11.43H3.15L3.15 13.6358H4.85ZM5.10607 13.7418C5.07398 13.7739 5.04838 13.7827 5.02952 13.7859C5.00601 13.79 4.97511 13.7878 4.9426 13.7744C4.91008 13.7609 4.8867 13.7406 4.87296 13.7211C4.86193 13.7054 4.85 13.6811 4.85 13.6358H3.15C3.15 15.2839 5.14271 16.1094 6.30815 14.9439L5.10607 13.7418ZM8.01896 10.8289L5.10607 13.7418L6.30815 14.9439L9.22104 12.031L8.01896 10.8289ZM12 10.58H8.62V12.28H12V10.58ZM13.15 9.42999C13.15 10.0651 12.6351 10.58 12 10.58V12.28C13.574 12.28 14.85 11.004 14.85 9.42999H13.15ZM13.15 4.54999V9.42999H14.85V4.54999H13.15ZM12 3.39999C12.6351 3.39999 13.15 3.91486 13.15 4.54999H14.85C14.85 2.97598 13.574 1.69999 12 1.69999V3.39999ZM4 3.39999H12V1.69999H4V3.39999Z\" fill=\"currentColor\"></path></svg>74&nbsp;отзыва</a></div><div class=\"ui_jKnqN\"><span class=\"ui_mqXop ui_Rub2m\"><svg width=\"1em\" height=\"1em\" viewBox=\"0 0 22 21\" fill=\"none\" xmlns=\"http://www.w3.org/2000/svg\" class=\"ui_YpY4A ui_3GQtd\"><path fill-rule=\"evenodd\" clip-rule=\"evenodd\" d=\"M11 21C16.799 21 21.5 16.299 21.5 10.5C21.5 4.70101 16.799 0 11 0C5.20101 0 0.5 4.70101 0.5 10.5C0.5 16.299 5.20101 21 11 21ZM12.4787 8.49206L11.7242 5.68974C11.525 4.94973 10.475 4.94973 10.2758 5.68974L9.52127 8.49206C9.45178 8.75016 9.25016 8.95178 8.99206 9.02127L6.18974 9.77579C5.44973 9.97504 5.44973 11.025 6.18974 11.2242L8.99206 11.9787C9.25016 12.0482 9.45178 12.2498 9.52127 12.5079L10.2758 15.3103C10.475 16.0503 11.525 16.0503 11.7242 15.3103L12.4787 12.5079C12.5482 12.2498 12.7498 12.0482 13.0079 11.9787L15.8103 11.2242C16.5503 11.025 16.5503 9.97504 15.8103 9.77579L13.0079 9.02127C12.7498 8.95178 12.5482 8.75016 12.4787 8.49206Z\" fill=\"currentColor\"></path></svg>Очень хвалят</span></div></div></div></div><div class=\"ui_IAKl3\"><div class=\"ui_Aqx86 ui_MuaJz ui_mv6P-\"><div><a class=\"ui_1hi7c ui_1hoX9 ui_6dnnc ui_TyMpJ\"><span class=\"ui_2MYaG ui_2nG75 ui_3nAGW ui_1hoX9 ui_qQrFC\"><svg width=\"1em\" height=\"1em\" viewBox=\"0 0 14 14\" fill=\"none\" xmlns=\"http://www.w3.org/2000/svg\"><path d=\"M13.9651 4.83824C13.739 4.17941 12.5549 3.98382 12.135 3.43824C11.7152 2.88235 11.8767 1.73971 11.3061 1.33824C10.7356 0.936765 9.65912 1.44118 8.97017 1.23529C8.29198 1.01912 7.7322 0 7.00019 0C6.26818 0 5.7084 1.01912 5.04098 1.23529C4.35203 1.44118 3.27554 0.936765 2.69424 1.33824C2.1237 1.73971 2.28517 2.88235 1.86534 3.43824C1.45627 3.98382 0.261371 4.17941 0.0353084 4.83824C-0.179989 5.47647 0.659672 6.3 0.659672 7C0.659672 7.7 -0.179989 8.52353 0.0353084 9.16177C0.261371 9.82059 1.44551 10.0162 1.86534 10.5618C2.28517 11.1176 2.1237 12.2603 2.69424 12.6618C3.26477 13.0632 4.34126 12.5588 5.03022 12.7647C5.7084 12.9809 6.26818 14 7.00019 14C7.7322 14 8.29198 12.9809 8.9594 12.775C9.64835 12.5588 10.7248 13.0632 11.2954 12.6721C11.8767 12.2706 11.7044 11.1279 12.1243 10.5721C12.5441 10.0265 13.7282 9.83088 13.9543 9.17206C14.1696 8.53382 13.3299 7.71029 13.3299 7.01029C13.3299 6.3103 14.1804 5.47647 13.9651 4.83824ZM10.7141 5.84706L5.9237 10.4279L3.2863 7.90588C2.98489 7.61765 2.98489 7.16471 3.2863 6.87647C3.58772 6.58824 4.06138 6.58824 4.36279 6.87647L5.9237 8.36912L9.63759 4.81765C9.939 4.52941 10.4127 4.52941 10.7141 4.81765C11.0155 5.10588 11.0155 5.55882 10.7141 5.84706Z\" fill=\"currentColor\"></path></svg></span><span data-shmid=\"profile_pinf\">Паспорт проверен</span><svg width=\"1em\" height=\"1em\" viewBox=\"0 0 18 17\" fill=\"none\" xmlns=\"http://www.w3.org/2000/svg\" class=\"ui_QnYIB\"><path d=\"M13.9999 6L9.00006 11L4.00006 6\" stroke=\"currentColor\" stroke-width=\"2\" stroke-linecap=\"round\" stroke-linejoin=\"round\"></path></svg></a></div><div class=\"ui_28G4K ui_2AdBN ui_2kqX0 ui_9-tm3\"><div class=\"ui_2DRfH ui_3kLkk\"><p class=\"ui_2MYaG ui_2SXfw ui_3nAGW ui_237c5\">Мы проверили копию паспорта:<br>— следы редактирования<br>    отсутствуют;<br>— имя, фамилия и фото<br>    совпадают.</p></div></div></div></div></div><div class=\"desktop-profile__block\"><div class=\"ui-text ui-markdown-text _3xKhc83 _2iyzK60\" data-shmid=\"profileUGC1\"><p>Нравится аниме или манга (<strong>ﾟ∀ﾟ</strong>)?<br>\n",
    "Интересна японская культура или литература?<br>\n",
    "Планируете путешествовать, учиться или работать в Японии?<br>\n",
    "Я - 100% японец и могу научить вас выражениям и произношению носителя языка.<br>\n",
    "Давайте заниматься японским вместе весело и приятно ^_^ !</p></div><h3 class=\"_2RW8har _3uSrgN0 _3AaAnP9\" data-shmid=\"desktop-profile__reviews-title\">Образование и&nbsp;опыт</h3><div class=\"ui-text _3xKhc83 _2iyzK60 _1A6uUTD\">Восточный университет (Япония), специальность – английский язык и английская литература, бакалавр<span class=\"ui-text _TE8l15y _3xKhc83 _38NyyC- _32776-7\"><nobr>2002 г.</nobr></span></div><a class=\"_tEd35Ca ui-link _t37mbJS _3G1AJk9 _3B7jWEb\" href=\"/profile/OtsuboTakumi/#assembledInfo\" target=\"_self\">Все факты (5)</a></div><div class=\"_1heBD0-\"><h3 class=\"_3nP2OEz _3uSrgN0 _3AaAnP9\" data-shmid=\"desktop-profile__reviews-title\">Отзывы</h3><div class=\"ui-text _3xKhc83 _2iyzK60\"><div class=\"\" data-shmid=\"ExpandableText\"><div>Прекрасный преподаватель! Занятия проходят интересно и позитивно. Требовательный и справедливый. Всегда вежлив и пунктуален. Если необходимо перенести занятие, идет на встречу. Меня все устраивает. Планирую и дальше изучать японский язык с ним.</div></div></div><a class=\"_11mv-Ui ui-link _t37mbJS _3G1AJk9 _3B7jWEb _2l1CpUa\" href=\"/repetitor/japanese/?seamless=1&amp;tabName=PROFILES&amp;profileTabName=reviews&amp;profileId=OtsuboTakumi\" target=\"_self\">Все отзывы (74)</a></div><div class=\"desktop-profile__block\"><h3 class=\"_3uSrgN0 _3AaAnP9\">Услуги и цены</h3><div class=\"profile__section profile__price profile__price_desktop profile__price_with-table\" data-shmid=\"prices\" id=\"\"><table class=\"price-list desktop-profile__prices\"><tbody><tr data-shmid=\"priceRow\" class=\"price-list-item price-list-item_top\"><td class=\"item_name\"><span>Японский язык</span><br></td><td class=\"item_value\"><span class=\"ui-text profile__price-caption _3xKhc83 _2iyzK60\">1500<span class=\"profile__price-caption_priceto\">–2000</span>&nbsp;<span data-shmid=\"сurrency-symbol\"><span>₽</span></span>/<span>60&nbsp;мин.</span></span></td></tr><tr data-shmid=\"priceRow\" class=\"price-list-item\"><td class=\"item_name\"><span>Разговорный японский язык</span><br></td><td class=\"item_value\"><span class=\"ui-text profile__price-caption _3xKhc83 _2iyzK60\">1500<span class=\"profile__price-caption_priceto\">–2000</span>&nbsp;<span data-shmid=\"сurrency-symbol\"><span>₽</span></span>/<span>60&nbsp;мин.</span></span></td></tr></tbody></table><span class=\"ui-text price-list__duration _3xKhc83 _5DgZvLV\">Длительность занятия — 60 мин.</span><div class=\"price-list__footer\"><a class=\"desktop-profile__all-link ui-link _t37mbJS _3G1AJk9 _3B7jWEb\" href=\"/repetitor/japanese/?seamless=1&amp;tabName=PROFILES&amp;profileTabName=reviews&amp;profileId=OtsuboTakumi\" target=\"_self\">Все услуги и цены (2)</a></div></div></div></div></div>"
   ]
  },
  {
   "cell_type": "code",
   "execution_count": null,
   "id": "44604b2a",
   "metadata": {},
   "outputs": [],
   "source": [
    "<div class=\"ui-text _3xKhc83 _2iyzK607\"\n",
    "\n",
    "<div class=\"ui-text _3xKhc83 _2iyzK60 _1A6uUTD\""
   ]
  },
  {
   "cell_type": "code",
   "execution_count": 15,
   "id": "ed45964f",
   "metadata": {},
   "outputs": [],
   "source": [
    "repetitors = soup.find_all(\"div\",\n",
    "                           {'class': 'seamless-profile desktop-profile'})\n",
    "for rep in repetitors:\n",
    "    name = rep.find(\"a\", {\"class\": \"ui_1hi7c ui_RF7aD ui_3j-OD\"}).text\n",
    "    print(name.contents[0])"
   ]
  },
  {
   "cell_type": "code",
   "execution_count": 18,
   "id": "c2c160b4",
   "metadata": {},
   "outputs": [],
   "source": [
    "repetitors = soup.find_all(\"div\",\n",
    "                           {'class': 'seamless-profile_desktop-profile'})\n",
    "for rep in repetitors:\n",
    "    name = rep.find(\"a\", {\"class\": \"ui-text_3xKhc83_2iyzK60_1A6uUTD\"}).text\n",
    "    print(name.contents[0])"
   ]
  },
  {
   "cell_type": "code",
   "execution_count": 16,
   "id": "01a3be23",
   "metadata": {},
   "outputs": [],
   "source": [
    "trs = soup.find_all('b', {'class':'pnmst'})\n",
    "names_of_rep = []\n",
    "\n",
    "for link in trs:\n",
    "    text = link.find('a')\n",
    "    names_of_rep.append(text.contents[0])\n",
    "#     print (text.contents[0])"
   ]
  },
  {
   "cell_type": "code",
   "execution_count": 17,
   "id": "7af144f8",
   "metadata": {},
   "outputs": [
    {
     "data": {
      "text/plain": [
       "['Файнгойз Михаил Львович',\n",
       " 'Васильев Алексей Александрович',\n",
       " 'Минкевич Андрей Владимирович',\n",
       " 'Бобров Николай Владимирович',\n",
       " 'Савельев Владимир Иванович',\n",
       " 'Ефимов Михаил Сергеевич',\n",
       " 'Гончаров Роман Борисович',\n",
       " 'Гаранин Александр Валерьевич',\n",
       " 'Чудновский Александр Витальевич',\n",
       " 'Нетреба Егор Сергеевич']"
      ]
     },
     "execution_count": 17,
     "metadata": {},
     "output_type": "execute_result"
    }
   ],
   "source": [
    "names_of_rep"
   ]
  },
  {
   "cell_type": "code",
   "execution_count": 37,
   "id": "a3da3cc2",
   "metadata": {},
   "outputs": [
    {
     "name": "stdout",
     "output_type": "stream",
     "text": [
      "Выезд: Центр, Юго-Восток, Юг, Восток, Северо-Восток, Большая кольцевая Восток, Шаболовская, Достоевская, Улица 1905 года, Беговая.\n",
      "Район: Беляево, Красные Ворота.\n",
      "<a class=\"atb2\" href=\"/repetitor/?p=KomatsuMami#price\">Цены и варианты занятий</a>\n",
      "Район: Борисово. Выезд: Центр, Крестьянская Застава, Пролетарская, Римская, Площадь Ильича, Бауманская, Электрозаводская, Достоевская, Красносельская, Улица 1905 года.\n",
      "<a class=\"atb2\" href=\"/repetitor/?p=ZimnuhovaIV#price\">Цены и варианты занятий</a>\n",
      "<a class=\"atb2\" href=\"/repetitor/?p=KosmanevaGV#price\">Цены и варианты занятий</a>\n",
      "Район: Новые Черёмушки, Университет, Александровский сад. Выезд: Газопровод, Коммунарка, Реутов, Московский, Салтыковка, Немчиновка, Мытищи, Химки, мкрн. Кучино, Долгопрудный.\n",
      "<a class=\"atb2\" href=\"/repetitor/?p=IshakovaRD#price\">Цены и варианты занятий</a>\n",
      "<a class=\"atb2\" href=\"/repetitor/?p=ShirshovaAP#price\">Цены и варианты занятий</a>\n",
      "Район: Дмитров.\n"
     ]
    }
   ],
   "source": [
    "tds = soup.find_all('table', {'class':'AnkTB'})\n",
    "for t in tds:\n",
    "    mark = t.find('p', {'class':'atb2'})\n",
    "#     mark = link.find('p')\n",
    "#     print(mark)\n",
    "    print(mark.contents[0])"
   ]
  },
  {
   "cell_type": "code",
   "execution_count": null,
   "id": "afae2806",
   "metadata": {},
   "outputs": [],
   "source": [
    "import requests\n",
    "from bs4 import BeautifulSoup\n",
    "\n",
    "r = requests.post('https://uaviak.ru/pages/raspisanie-/#pos2')\n",
    "soup = BeautifulSoup(r.text, 'html.parser')\n",
    "ras = soup.find('div', class_=\"scrolling-text pos2\").text.split('\\n')\n",
    "for ur in ras:\n",
    "    if ur.find('18адс1') >=0:\n",
    "        print(ur)"
   ]
  },
  {
   "cell_type": "code",
   "execution_count": 121,
   "id": "ae5847dd",
   "metadata": {},
   "outputs": [],
   "source": [
    "tds = soup.find('table', {'class':'AnkTB'}).text\n",
    "for t in tds:\n",
    "    if t.find('Выезд') >= 0:\n",
    "#     mark = t.find('p', {'class':'atb2'})\n",
    "#     mark = link.find('p')\n",
    "        print(t)"
   ]
  },
  {
   "cell_type": "code",
   "execution_count": 135,
   "id": "61afc7e1",
   "metadata": {},
   "outputs": [
    {
     "name": "stdout",
     "output_type": "stream",
     "text": [
      "Цены и варианты занятийСтавка: 1500-2000 руб. / чДлительность занятия: 60 мин.\n"
     ]
    }
   ],
   "source": [
    "ras = soup.find('table', class_=\"AnkTB\").text.split('\\n')\n",
    "for ur in ras:\n",
    "    if ur.find('Ставка') >=0:\n",
    "        print(ur)"
   ]
  },
  {
   "cell_type": "code",
   "execution_count": 111,
   "id": "22ea08d7",
   "metadata": {},
   "outputs": [],
   "source": [
    "# ras = soup.find('p', class_=\"atb2\").text\n",
    "ras = soup.find('table', {'class':'AnkTB'}).text\n",
    "for ur in ras:\n",
    "#     if ur.find('Ставка:') == True:\n",
    "    if ur.find('Ставка:') >=0:\n",
    "        print(ur)\n",
    "#     else:\n",
    "#         print('error')"
   ]
  },
  {
   "cell_type": "code",
   "execution_count": 151,
   "id": "907352ec",
   "metadata": {},
   "outputs": [],
   "source": [
    "all_info = soup.find_all('table', 'AnkTB')"
   ]
  },
  {
   "cell_type": "code",
   "execution_count": 157,
   "id": "601a142d",
   "metadata": {},
   "outputs": [
    {
     "name": "stdout",
     "output_type": "stream",
     "text": [
      "Выезд: Центр, Юго-Восток, Юг, Восток, Северо-Восток, Большая кольцевая Восток, Шаболовская, Достоевская, Улица 1905 года, Беговая.\n",
      "Район: Борисово. Выезд: Центр, Крестьянская Застава, Пролетарская, Римская, Площадь Ильича, Бауманская, Электрозаводская, Достоевская, Красносельская, Улица 1905 года.\n",
      "Район: Новые Черёмушки, Университет, Александровский сад. Выезд: Газопровод, Коммунарка, Реутов, Московский, Салтыковка, Немчиновка, Мытищи, Химки, мкрн. Кучино, Долгопрудный.\n",
      "Цены и варианты занятийЯпонский язык: 1500 руб. / чАнглийский язык: 1200 руб. / чВыезд: 1200 руб. / чДлительность занятия: 60-90 мин.\n"
     ]
    }
   ],
   "source": [
    "for inf in all_info:\n",
    "    st = inf.find('p', class_=\"atb2\").text\n",
    "#     print(st)\n",
    "#     print('___________________________')\n",
    "    if 'Выезд' in st:\n",
    "        print(st)"
   ]
  },
  {
   "cell_type": "code",
   "execution_count": 156,
   "id": "2a174be3",
   "metadata": {},
   "outputs": [
    {
     "name": "stdout",
     "output_type": "stream",
     "text": [
      "Выезд: Центр, Юго-Восток, Юг, Восток, Северо-Восток, Большая кольцевая Восток, Шаболовская, Достоевская, Улица 1905 года, Беговая.\n",
      "___________________________\n",
      "Район: Беляево, Красные Ворота.\n",
      "___________________________\n",
      "Цены и варианты занятийЯпонский язык: от 2700 руб. / ак.чНихонго норёку сикэн: от 2700 руб. / ак.чМеждународные экзамены по японскому: от 2700 руб. / ак.чГрупповые занятия.\n",
      "___________________________\n",
      "Район: Борисово. Выезд: Центр, Крестьянская Застава, Пролетарская, Римская, Площадь Ильича, Бауманская, Электрозаводская, Достоевская, Красносельская, Улица 1905 года.\n",
      "___________________________\n",
      "Цены и варианты занятийСтавка: 1000-1500 руб. / чВ паре: 2500 руб. / чДлительность занятия: 60 мин.\n",
      "___________________________\n",
      "Цены и варианты занятийЯпонский язык: 2700-4000 руб. / чНихонго норёку сикэн: 2700-4000 руб. / чМеждународные экзамены по японскому: 2700-4000 руб. / чДлительность занятия: 60-90 мин.\n",
      "___________________________\n",
      "Район: Новые Черёмушки, Университет, Александровский сад. Выезд: Газопровод, Коммунарка, Реутов, Московский, Салтыковка, Немчиновка, Мытищи, Химки, мкрн. Кучино, Долгопрудный.\n",
      "___________________________\n",
      "Цены и варианты занятийЯпонский язык: 1500 руб. / чАнглийский язык: 1200 руб. / чВыезд: 1200 руб. / чДлительность занятия: 60-90 мин.\n",
      "___________________________\n",
      "Цены и варианты занятийЯпонский язык: 350-1200 руб. / чМеждународные экзамены по японскому: 350-1200 руб. / чНихонго норёку сикэн: 350-1200 руб. / чДлительность занятия: 60 мин.\n",
      "___________________________\n",
      "Район: Дмитров.\n",
      "___________________________\n"
     ]
    }
   ],
   "source": [
    "for inf in all_info:\n",
    "    st = inf.find('p', class_=\"atb2\").text\n",
    "    print(st)\n",
    "    print('___________________________')\n"
   ]
  },
  {
   "cell_type": "code",
   "execution_count": null,
   "id": "9b3c5455",
   "metadata": {},
   "outputs": [],
   "source": []
  }
 ],
 "metadata": {
  "kernelspec": {
   "display_name": "Python 3 (ipykernel)",
   "language": "python",
   "name": "python3"
  },
  "language_info": {
   "codemirror_mode": {
    "name": "ipython",
    "version": 3
   },
   "file_extension": ".py",
   "mimetype": "text/x-python",
   "name": "python",
   "nbconvert_exporter": "python",
   "pygments_lexer": "ipython3",
   "version": "3.9.16"
  },
  "toc": {
   "base_numbering": 1,
   "nav_menu": {},
   "number_sections": true,
   "sideBar": true,
   "skip_h1_title": false,
   "title_cell": "Table of Contents",
   "title_sidebar": "Contents",
   "toc_cell": false,
   "toc_position": {},
   "toc_section_display": true,
   "toc_window_display": false
  }
 },
 "nbformat": 4,
 "nbformat_minor": 5
}
