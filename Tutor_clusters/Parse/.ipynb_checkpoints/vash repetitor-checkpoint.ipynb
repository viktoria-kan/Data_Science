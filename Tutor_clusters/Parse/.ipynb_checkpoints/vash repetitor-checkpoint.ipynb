{
 "cells": [
  {
   "cell_type": "code",
   "execution_count": 3,
   "id": "dbc23d4a",
   "metadata": {},
   "outputs": [],
   "source": [
    "import requests\n",
    "from bs4 import BeautifulSoup\n",
    "import re\n",
    "import pandas as pd\n",
    "\n",
    "from tqdm import tqdm_notebook\n",
    "import itertools\n",
    "\n",
    "from tqdm import tqdm\n",
    "from p_tqdm import p_map\n",
    "from functools import partial\n",
    "\n",
    "from multiprocessing.dummy import Pool as ThreadPool\n",
    "\n",
    "from requests_html import HTMLSession\n",
    "\n",
    "import warnings\n",
    "warnings.filterwarnings('ignore')"
   ]
  },
  {
   "cell_type": "code",
   "execution_count": null,
   "id": "a92056e0",
   "metadata": {},
   "outputs": [],
   "source": [
    "https://repetitors.info/repetitor/prog/"
   ]
  },
  {
   "cell_type": "code",
   "execution_count": null,
   "id": "a7d3e478",
   "metadata": {},
   "outputs": [],
   "source": [
    "def parse_auto(subject: str):\n",
    "    try:\n",
    "        car_name = brand.lower()\n",
    "        lst_auto = []\n",
    "        url = \"https://repetitors.info/repetitor/{}/\".format(subject)\n",
    "        response = requests.get(url)\n",
    "\n",
    "        if response.status_code != 404:\n",
    "            soup = BeautifulSoup(response.text, 'html.parser')\n",
    "            repetitors = soup.find_all(\"a\", {\"href\": \"bulls-list_bull\"})\n",
    "\n",
    "            for rep in repetitors:\n",
    "                name = rep.find(\"a\", {\"data-ftid\": \"bull_title\"}).text\n",
    "#                 title_pred = title.split(f'{brand} ')[1].split(', ')\n",
    "\n",
    "                model, year = title_pred[0], title_pred[1]\n",
    "\n",
    "                desc = rep.find(\n",
    "                    \"div\", {\n",
    "                        \"data-ftid\": \"component_inline-bull-description\"\n",
    "                    }).text\n",
    "                location = rep.find(\"span\", {\n",
    "                    \"data-ftid\": \"bull_location\"\n",
    "                }).text\n",
    "\n",
    "                price = car.find(\"span\", {\"data-ftid\": \"bull_price\"}).text\n",
    "                price = re.sub(r\"[^\\d,.]\", '', price)\n",
    "\n",
    "                lst_auto.append(\n",
    "                    [region, brand, model, year, desc, location, price])\n",
    "#                 print(lst_auto)\n",
    "    except Exception as ex:\n",
    "        print(f'message error: {ex}')\n",
    "    return lst_auto"
   ]
  },
  {
   "cell_type": "code",
   "execution_count": 83,
   "id": "ba93535f",
   "metadata": {},
   "outputs": [],
   "source": [
    "URL = 'https://repetitors.info/repetitor/prog/'"
   ]
  },
  {
   "cell_type": "code",
   "execution_count": 84,
   "id": "456b8ce4",
   "metadata": {},
   "outputs": [
    {
     "name": "stdout",
     "output_type": "stream",
     "text": [
      "<Response [200]>\n"
     ]
    }
   ],
   "source": [
    "response = requests.get(URL)\n",
    "print(response)"
   ]
  },
  {
   "cell_type": "code",
   "execution_count": null,
   "id": "a6f364e7",
   "metadata": {},
   "outputs": [],
   "source": [
    "names_of_rep = []\n",
    "for rep in repetitors:\n",
    "    name = rep.find(\"a\", {\"data-ftid\": \"bull_title\"}).text\n",
    "    names_of_rep.append(name)"
   ]
  },
  {
   "cell_type": "code",
   "execution_count": 113,
   "id": "b415cb26",
   "metadata": {},
   "outputs": [],
   "source": [
    "URL = 'https://repetitors.info/repetitor/japanese/'\n",
    "response = requests.get(URL).text\n",
    "\n",
    "soup = BeautifulSoup(response, 'html.parser')"
   ]
  },
  {
   "cell_type": "code",
   "execution_count": 19,
   "id": "1cf0ac2e",
   "metadata": {},
   "outputs": [
    {
     "name": "stdout",
     "output_type": "stream",
     "text": [
      "Оцубо Такуми\n",
      "Стариков Олег Борисович\n",
      "Комацу Мами\n",
      "Черепанова Мария Николаевна\n",
      "Зимнухова Ирина Владимировна\n",
      "Косманёва Галина Валерьевна\n",
      "Бадиловская Надежда Михайловна\n",
      "Исхакова Рита Даниловна\n",
      "Хромова Анастасия Павловна\n",
      "Компаниец Таисия Викторовна\n"
     ]
    }
   ],
   "source": [
    "trs = soup.find_all('b', {'class':'pnmst'})\n",
    "\n",
    "for link in trs:\n",
    "    text = link.find('a')\n",
    "    print (text.contents[0])"
   ]
  },
  {
   "cell_type": "code",
   "execution_count": 16,
   "id": "27c0be2f",
   "metadata": {},
   "outputs": [],
   "source": [
    "trs = soup.find_all('b', {'class':'pnmst'})\n",
    "names_of_rep = []\n",
    "\n",
    "for link in trs:\n",
    "    text = link.find('a')\n",
    "    names_of_rep.append(text.contents[0])\n",
    "#     print (text.contents[0])"
   ]
  },
  {
   "cell_type": "code",
   "execution_count": 17,
   "id": "195e22a7",
   "metadata": {},
   "outputs": [
    {
     "data": {
      "text/plain": [
       "['Файнгойз Михаил Львович',\n",
       " 'Васильев Алексей Александрович',\n",
       " 'Минкевич Андрей Владимирович',\n",
       " 'Бобров Николай Владимирович',\n",
       " 'Савельев Владимир Иванович',\n",
       " 'Ефимов Михаил Сергеевич',\n",
       " 'Гончаров Роман Борисович',\n",
       " 'Гаранин Александр Валерьевич',\n",
       " 'Чудновский Александр Витальевич',\n",
       " 'Нетреба Егор Сергеевич']"
      ]
     },
     "execution_count": 17,
     "metadata": {},
     "output_type": "execute_result"
    }
   ],
   "source": [
    "names_of_rep"
   ]
  },
  {
   "cell_type": "code",
   "execution_count": 37,
   "id": "362f46b7",
   "metadata": {},
   "outputs": [
    {
     "name": "stdout",
     "output_type": "stream",
     "text": [
      "Выезд: Центр, Юго-Восток, Юг, Восток, Северо-Восток, Большая кольцевая Восток, Шаболовская, Достоевская, Улица 1905 года, Беговая.\n",
      "Район: Беляево, Красные Ворота.\n",
      "<a class=\"atb2\" href=\"/repetitor/?p=KomatsuMami#price\">Цены и варианты занятий</a>\n",
      "Район: Борисово. Выезд: Центр, Крестьянская Застава, Пролетарская, Римская, Площадь Ильича, Бауманская, Электрозаводская, Достоевская, Красносельская, Улица 1905 года.\n",
      "<a class=\"atb2\" href=\"/repetitor/?p=ZimnuhovaIV#price\">Цены и варианты занятий</a>\n",
      "<a class=\"atb2\" href=\"/repetitor/?p=KosmanevaGV#price\">Цены и варианты занятий</a>\n",
      "Район: Новые Черёмушки, Университет, Александровский сад. Выезд: Газопровод, Коммунарка, Реутов, Московский, Салтыковка, Немчиновка, Мытищи, Химки, мкрн. Кучино, Долгопрудный.\n",
      "<a class=\"atb2\" href=\"/repetitor/?p=IshakovaRD#price\">Цены и варианты занятий</a>\n",
      "<a class=\"atb2\" href=\"/repetitor/?p=ShirshovaAP#price\">Цены и варианты занятий</a>\n",
      "Район: Дмитров.\n"
     ]
    }
   ],
   "source": [
    "tds = soup.find_all('table', {'class':'AnkTB'})\n",
    "for t in tds:\n",
    "    mark = t.find('p', {'class':'atb2'})\n",
    "#     mark = link.find('p')\n",
    "#     print(mark)\n",
    "    print(mark.contents[0])"
   ]
  },
  {
   "cell_type": "code",
   "execution_count": null,
   "id": "1e30ac29",
   "metadata": {},
   "outputs": [],
   "source": [
    "import requests\n",
    "from bs4 import BeautifulSoup\n",
    "\n",
    "r = requests.post('https://uaviak.ru/pages/raspisanie-/#pos2')\n",
    "soup = BeautifulSoup(r.text, 'html.parser')\n",
    "ras = soup.find('div', class_=\"scrolling-text pos2\").text.split('\\n')\n",
    "for ur in ras:\n",
    "    if ur.find('18адс1') >=0:\n",
    "        print(ur)"
   ]
  },
  {
   "cell_type": "code",
   "execution_count": 121,
   "id": "4ac3fea2",
   "metadata": {},
   "outputs": [],
   "source": [
    "tds = soup.find('table', {'class':'AnkTB'}).text\n",
    "for t in tds:\n",
    "    if t.find('Выезд') >= 0:\n",
    "#     mark = t.find('p', {'class':'atb2'})\n",
    "#     mark = link.find('p')\n",
    "        print(t)"
   ]
  },
  {
   "cell_type": "code",
   "execution_count": 135,
   "id": "50c54d7f",
   "metadata": {},
   "outputs": [
    {
     "name": "stdout",
     "output_type": "stream",
     "text": [
      "Цены и варианты занятийСтавка: 1500-2000 руб. / чДлительность занятия: 60 мин.\n"
     ]
    }
   ],
   "source": [
    "ras = soup.find('table', class_=\"AnkTB\").text.split('\\n')\n",
    "for ur in ras:\n",
    "    if ur.find('Ставка') >=0:\n",
    "        print(ur)"
   ]
  },
  {
   "cell_type": "code",
   "execution_count": 111,
   "id": "45022fdc",
   "metadata": {},
   "outputs": [],
   "source": [
    "# ras = soup.find('p', class_=\"atb2\").text\n",
    "ras = soup.find('table', {'class':'AnkTB'}).text\n",
    "for ur in ras:\n",
    "#     if ur.find('Ставка:') == True:\n",
    "    if ur.find('Ставка:') >=0:\n",
    "        print(ur)\n",
    "#     else:\n",
    "#         print('error')"
   ]
  },
  {
   "cell_type": "code",
   "execution_count": 151,
   "id": "6f45c3bd",
   "metadata": {},
   "outputs": [],
   "source": [
    "all_info = soup.find_all('table', 'AnkTB')"
   ]
  },
  {
   "cell_type": "code",
   "execution_count": 157,
   "id": "63a2fffd",
   "metadata": {},
   "outputs": [
    {
     "name": "stdout",
     "output_type": "stream",
     "text": [
      "Выезд: Центр, Юго-Восток, Юг, Восток, Северо-Восток, Большая кольцевая Восток, Шаболовская, Достоевская, Улица 1905 года, Беговая.\n",
      "Район: Борисово. Выезд: Центр, Крестьянская Застава, Пролетарская, Римская, Площадь Ильича, Бауманская, Электрозаводская, Достоевская, Красносельская, Улица 1905 года.\n",
      "Район: Новые Черёмушки, Университет, Александровский сад. Выезд: Газопровод, Коммунарка, Реутов, Московский, Салтыковка, Немчиновка, Мытищи, Химки, мкрн. Кучино, Долгопрудный.\n",
      "Цены и варианты занятийЯпонский язык: 1500 руб. / чАнглийский язык: 1200 руб. / чВыезд: 1200 руб. / чДлительность занятия: 60-90 мин.\n"
     ]
    }
   ],
   "source": [
    "for inf in all_info:\n",
    "    st = inf.find('p', class_=\"atb2\").text\n",
    "#     print(st)\n",
    "#     print('___________________________')\n",
    "    if 'Выезд' in st:\n",
    "        print(st)"
   ]
  },
  {
   "cell_type": "code",
   "execution_count": 156,
   "id": "c71d1550",
   "metadata": {},
   "outputs": [
    {
     "name": "stdout",
     "output_type": "stream",
     "text": [
      "Выезд: Центр, Юго-Восток, Юг, Восток, Северо-Восток, Большая кольцевая Восток, Шаболовская, Достоевская, Улица 1905 года, Беговая.\n",
      "___________________________\n",
      "Район: Беляево, Красные Ворота.\n",
      "___________________________\n",
      "Цены и варианты занятийЯпонский язык: от 2700 руб. / ак.чНихонго норёку сикэн: от 2700 руб. / ак.чМеждународные экзамены по японскому: от 2700 руб. / ак.чГрупповые занятия.\n",
      "___________________________\n",
      "Район: Борисово. Выезд: Центр, Крестьянская Застава, Пролетарская, Римская, Площадь Ильича, Бауманская, Электрозаводская, Достоевская, Красносельская, Улица 1905 года.\n",
      "___________________________\n",
      "Цены и варианты занятийСтавка: 1000-1500 руб. / чВ паре: 2500 руб. / чДлительность занятия: 60 мин.\n",
      "___________________________\n",
      "Цены и варианты занятийЯпонский язык: 2700-4000 руб. / чНихонго норёку сикэн: 2700-4000 руб. / чМеждународные экзамены по японскому: 2700-4000 руб. / чДлительность занятия: 60-90 мин.\n",
      "___________________________\n",
      "Район: Новые Черёмушки, Университет, Александровский сад. Выезд: Газопровод, Коммунарка, Реутов, Московский, Салтыковка, Немчиновка, Мытищи, Химки, мкрн. Кучино, Долгопрудный.\n",
      "___________________________\n",
      "Цены и варианты занятийЯпонский язык: 1500 руб. / чАнглийский язык: 1200 руб. / чВыезд: 1200 руб. / чДлительность занятия: 60-90 мин.\n",
      "___________________________\n",
      "Цены и варианты занятийЯпонский язык: 350-1200 руб. / чМеждународные экзамены по японскому: 350-1200 руб. / чНихонго норёку сикэн: 350-1200 руб. / чДлительность занятия: 60 мин.\n",
      "___________________________\n",
      "Район: Дмитров.\n",
      "___________________________\n"
     ]
    }
   ],
   "source": [
    "for inf in all_info:\n",
    "    st = inf.find('p', class_=\"atb2\").text\n",
    "    print(st)\n",
    "    print('___________________________')\n"
   ]
  },
  {
   "cell_type": "code",
   "execution_count": null,
   "id": "2a6996e3",
   "metadata": {},
   "outputs": [],
   "source": []
  }
 ],
 "metadata": {
  "kernelspec": {
   "display_name": "Python 3 (ipykernel)",
   "language": "python",
   "name": "python3"
  },
  "language_info": {
   "codemirror_mode": {
    "name": "ipython",
    "version": 3
   },
   "file_extension": ".py",
   "mimetype": "text/x-python",
   "name": "python",
   "nbconvert_exporter": "python",
   "pygments_lexer": "ipython3",
   "version": "3.9.16"
  },
  "toc": {
   "base_numbering": 1,
   "nav_menu": {},
   "number_sections": true,
   "sideBar": true,
   "skip_h1_title": false,
   "title_cell": "Table of Contents",
   "title_sidebar": "Contents",
   "toc_cell": false,
   "toc_position": {},
   "toc_section_display": true,
   "toc_window_display": false
  }
 },
 "nbformat": 4,
 "nbformat_minor": 5
}
